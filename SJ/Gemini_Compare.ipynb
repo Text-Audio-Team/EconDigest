{
 "cells": [
  {
   "cell_type": "code",
   "execution_count": 9,
   "metadata": {},
   "outputs": [
    {
     "name": "stdout",
     "output_type": "stream",
     "text": [
      "models/chat-bison-001 ➡ ['generateMessage', 'countMessageTokens']\n",
      "models/text-bison-001 ➡ ['generateText', 'countTextTokens', 'createTunedTextModel']\n",
      "models/embedding-gecko-001 ➡ ['embedText', 'countTextTokens']\n",
      "models/gemini-1.0-pro-vision-latest ➡ ['generateContent', 'countTokens']\n",
      "models/gemini-pro-vision ➡ ['generateContent', 'countTokens']\n",
      "models/gemini-1.5-pro-latest ➡ ['generateContent', 'countTokens']\n",
      "models/gemini-1.5-pro-001 ➡ ['generateContent', 'countTokens', 'createCachedContent']\n",
      "models/gemini-1.5-pro-002 ➡ ['generateContent', 'countTokens', 'createCachedContent']\n",
      "models/gemini-1.5-pro ➡ ['generateContent', 'countTokens']\n",
      "models/gemini-1.5-flash-latest ➡ ['generateContent', 'countTokens']\n",
      "models/gemini-1.5-flash-001 ➡ ['generateContent', 'countTokens', 'createCachedContent']\n",
      "models/gemini-1.5-flash-001-tuning ➡ ['generateContent', 'countTokens', 'createTunedModel']\n",
      "models/gemini-1.5-flash ➡ ['generateContent', 'countTokens']\n",
      "models/gemini-1.5-flash-002 ➡ ['generateContent', 'countTokens', 'createCachedContent']\n",
      "models/gemini-1.5-flash-8b ➡ ['createCachedContent', 'generateContent', 'countTokens']\n",
      "models/gemini-1.5-flash-8b-001 ➡ ['createCachedContent', 'generateContent', 'countTokens']\n",
      "models/gemini-1.5-flash-8b-latest ➡ ['createCachedContent', 'generateContent', 'countTokens']\n",
      "models/gemini-1.5-flash-8b-exp-0827 ➡ ['generateContent', 'countTokens']\n",
      "models/gemini-1.5-flash-8b-exp-0924 ➡ ['generateContent', 'countTokens']\n",
      "models/gemini-2.0-flash-exp ➡ ['generateContent', 'countTokens', 'bidiGenerateContent']\n",
      "models/gemini-2.0-flash ➡ ['generateContent', 'countTokens']\n",
      "models/gemini-2.0-flash-001 ➡ ['generateContent', 'countTokens']\n",
      "models/gemini-2.0-flash-lite-001 ➡ ['generateContent', 'countTokens']\n",
      "models/gemini-2.0-flash-lite ➡ ['generateContent', 'countTokens']\n",
      "models/gemini-2.0-flash-lite-preview-02-05 ➡ ['generateContent', 'countTokens']\n",
      "models/gemini-2.0-flash-lite-preview ➡ ['generateContent', 'countTokens']\n",
      "models/gemini-2.0-pro-exp ➡ ['generateContent', 'countTokens']\n",
      "models/gemini-2.0-pro-exp-02-05 ➡ ['generateContent', 'countTokens']\n",
      "models/gemini-exp-1206 ➡ ['generateContent', 'countTokens']\n",
      "models/gemini-2.0-flash-thinking-exp-01-21 ➡ ['generateContent', 'countTokens']\n",
      "models/gemini-2.0-flash-thinking-exp ➡ ['generateContent', 'countTokens']\n",
      "models/gemini-2.0-flash-thinking-exp-1219 ➡ ['generateContent', 'countTokens']\n",
      "models/learnlm-1.5-pro-experimental ➡ ['generateContent', 'countTokens']\n",
      "models/embedding-001 ➡ ['embedContent']\n",
      "models/text-embedding-004 ➡ ['embedContent']\n",
      "models/aqa ➡ ['generateAnswer']\n",
      "models/imagen-3.0-generate-002 ➡ ['predict']\n"
     ]
    }
   ],
   "source": [
    "import google.generativeai as genai\n",
    "import os\n",
    "from main import Gemini_API_KEY\n",
    "\n",
    "# ✅ API 키 설정\n",
    "genai.configure(api_key=Gemini_API_KEY)\n",
    "\n",
    "# ✅ 사용 가능한 모델 목록 조회\n",
    "models = genai.list_models()\n",
    "for model in models:\n",
    "    print(model.name, \"➡\", model.supported_generation_methods)\n"
   ]
  },
  {
   "cell_type": "code",
   "execution_count": 15,
   "metadata": {},
   "outputs": [
    {
     "name": "stdout",
     "output_type": "stream",
     "text": [
      "📌 원문(576):\n",
      "     국정원이 우리 기업들에게 북한 해커의 위장 취업을 조심하라 주의령을 내렸습니다. 졸업 증명서와 여권을 위조해서 위장 취업하려다가 최종 채용 직전에 덜밀 잡혔는데요. 신종 외화벌입 수법이라고 합니다. 배두환 기자입니다. 국정원이 국내 한 에너지 기업의 해외지사에  취업하려던 북한 해커를 적발해 조사 중이라고 밝혔습니다. 여권과 졸업 증명서를 위조해 외국인 외국인 신분으로 위장한 뒤 우리 기업에 원서를 냈습니다. 고용 계약서를 쓰며 채용 직전 단계까지 갖지만  첩보를 입수하면서 무산됐습니다. 이 해커는 굳이 플랫폼 사이트에 등록하는 대담함도 보였습니다. 국정원 관계자는 프리랜서로 일회성이 아니라 정식 직원 취업을 시도한 게 눈에 띈다며 IT 외화 버리에 새로운 동원하는 것이니 각별히 주의해야 한다고 당부했습니다. 국정원은 우리나라가 의제를 선호하듯 북한은 IT 분야 진출을 선호한다고도 했습니다. 국정원은 대남 사이버 테러를 주도했던 김영철의 복기도 주시하고 있습니다.  내년 총선을 앞두고 북한의 사이버 공작이 본격화될 수 있다며 중국과 러시아의 개입 가능성까지 언급했습니다. 채널A 뉴스 배두원입니다.\n",
      "    \n",
      "\n",
      "✅ 요약 결과(233):북한 해커가 위조된 여권과 졸업 증명서를 이용하여 국내 에너지 기업 해외 지사에 위장 취업을 시도하다 발각되었습니다.  이는 기존의 일회성 프리랜서가 아닌 정식 직원 취업을 노린 새로운 외화벌이 수법으로, 국정원은 IT 분야 진출을 선호하는 북한의 특성상 각별한 주의를 당부했습니다. 또한, 김영철의 복귀와 함께 내년 총선을 앞두고 북한의 사이버 공작이 본격화될 가능성과 중국, 러시아의 개입 가능성도 언급했습니다.\n",
      "\n"
     ]
    }
   ],
   "source": [
    "import google.generativeai as genai\n",
    "import os\n",
    "\n",
    "# ✅ 1. Gemini API 키 설정 (main.py에서 불러오기)\n",
    "genai.configure(api_key=Gemini_API_KEY)\n",
    "\n",
    "# ✅ 2. 요약 함수 정의\n",
    "def summarize_text(input_text):\n",
    "    \"\"\"\n",
    "    Google Gemini API를 활용하여 주어진 텍스트를 요약하는 함수\n",
    "    :param input_text: 요약할 원문 텍스트\n",
    "    :return: 요약된 결과\n",
    "    \"\"\"\n",
    "    try:\n",
    "        model = genai.GenerativeModel(\"models/gemini-1.5-pro-latest\")  # ✅ Gemini 모델 선택\n",
    "        response = model.generate_content(f\"다음 내용을 요약해주세요:\\n\\n{input_text}\")\n",
    "        return response.text  # ✅ 요약된 텍스트 반환\n",
    "    except Exception as e:\n",
    "        return f\"오류 발생: {str(e)}\"\n",
    "\n",
    "# ✅ 3. 사용 예시\n",
    "if __name__ == \"__main__\":\n",
    "    input_text = \"\"\"\n",
    "     국정원이 우리 기업들에게 북한 해커의 위장 취업을 조심하라 주의령을 내렸습니다. 졸업 증명서와 여권을 위조해서 위장 취업하려다가 최종 채용 직전에 덜밀 잡혔는데요. 신종 외화벌입 수법이라고 합니다. 배두환 기자입니다. 국정원이 국내 한 에너지 기업의 해외지사에  취업하려던 북한 해커를 적발해 조사 중이라고 밝혔습니다. 여권과 졸업 증명서를 위조해 외국인 외국인 신분으로 위장한 뒤 우리 기업에 원서를 냈습니다. 고용 계약서를 쓰며 채용 직전 단계까지 갖지만  첩보를 입수하면서 무산됐습니다. 이 해커는 굳이 플랫폼 사이트에 등록하는 대담함도 보였습니다. 국정원 관계자는 프리랜서로 일회성이 아니라 정식 직원 취업을 시도한 게 눈에 띈다며 IT 외화 버리에 새로운 동원하는 것이니 각별히 주의해야 한다고 당부했습니다. 국정원은 우리나라가 의제를 선호하듯 북한은 IT 분야 진출을 선호한다고도 했습니다. 국정원은 대남 사이버 테러를 주도했던 김영철의 복기도 주시하고 있습니다.  내년 총선을 앞두고 북한의 사이버 공작이 본격화될 수 있다며 중국과 러시아의 개입 가능성까지 언급했습니다. 채널A 뉴스 배두원입니다.\n",
    "    \"\"\"\n",
    "    summary = summarize_text(input_text)\n",
    "    \n",
    "    print(f\"📌 원문({len(input_text)}):{input_text}\")\n",
    "    print(f\"\\n✅ 요약 결과({len(summary)}):{summary}\")\n"
   ]
  }
 ],
 "metadata": {
  "kernelspec": {
   "display_name": "dl_project",
   "language": "python",
   "name": "python3"
  },
  "language_info": {
   "codemirror_mode": {
    "name": "ipython",
    "version": 3
   },
   "file_extension": ".py",
   "mimetype": "text/x-python",
   "name": "python",
   "nbconvert_exporter": "python",
   "pygments_lexer": "ipython3",
   "version": "3.9.21"
  }
 },
 "nbformat": 4,
 "nbformat_minor": 2
}
