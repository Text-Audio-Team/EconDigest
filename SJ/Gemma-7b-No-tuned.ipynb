{
 "cells": [
  {
   "cell_type": "markdown",
   "metadata": {},
   "source": [
    "# Gemma 7b-it 모델 No-tuned"
   ]
  },
  {
   "cell_type": "code",
   "execution_count": null,
   "metadata": {},
   "outputs": [],
   "source": [
    "# 'input_text': '원고가 소속회사의 노동조합에서 분규가 발생하자 노조활동을 구실로 정상적인 근무를 해태하고, 노조조합장이 사임한 경우, 노동조합규약에 동 조합장의 직무를 대행할 자를 규정해 두고 있음에도 원고 자신이 주동하여 노조자치수습대책위원회를 구성하여 그 위원장으로 피선되어 근무시간중에도 노조활동을 벌여 운수업체인 소속회사의 업무에 지장을 초래하고 종업원들에게도 나쁜 영향을 끼쳐 소속회사가 취업규칙을 위반하고 고의로 회사업무능률을 저해하였으며 회사업무상의 지휘명령에 위반하였음을 이유로 원고를 징계해고 하였다면, 이는 원고의 노동조합 활동과는 관계없이 회사취업규칙에 의하여 사내질서를 유지하기 위한 사용자 고유의 징계권에 기하여 이루어진 정당한 징계권의 행사로 보아야 한다.'\n",
    "# , 'target_text': '원고가  주동하여 회사업무능률을 저해하고 회사업무상의 지휘명령에 위반하였다면 이에 따른 징계해고는 사내질서를 유지하기 위한 사용자 고유의 정당한 징계권의 행사로 보아야 한다.'}"
   ]
  },
  {
   "cell_type": "markdown",
   "metadata": {},
   "source": [
    "## 1. 모델 및 토크나이저 로드"
   ]
  },
  {
   "cell_type": "code",
   "execution_count": 19,
   "metadata": {},
   "outputs": [
    {
     "data": {
      "application/vnd.jupyter.widget-view+json": {
       "model_id": "f7a2be7fd0e94faca1d2ff038bee8a93",
       "version_major": 2,
       "version_minor": 0
      },
      "text/plain": [
       "Loading checkpoint shards:   0%|          | 0/4 [00:00<?, ?it/s]"
      ]
     },
     "metadata": {},
     "output_type": "display_data"
    }
   ],
   "source": [
    "from transformers import AutoTokenizer, AutoModelForCausalLM, BitsAndBytesConfig\n",
    "import torch\n",
    "\n",
    "def load_model_and_tokenizer(model_name=\"google/gemma-7b-it\"):\n",
    "    \"\"\"\n",
    "    BitsAndBytesConfig를 사용하여 8-bit quantization 상태로 모델을 로드합니다.\n",
    "    device_map을 {\"\": \"cuda:1\"}로 설정하여 모든 모듈이 오직 cuda:1에 할당되도록 합니다.\n",
    "    \"\"\"\n",
    "    bnb_config = BitsAndBytesConfig(\n",
    "        load_in_8bit=True,\n",
    "        llm_int8_threshold=6.0,\n",
    "        llm_int8_has_fp16_weight=False,\n",
    "        llm_int8_enable_fp32_cpu_offload=True\n",
    "    )\n",
    "    \n",
    "    # 모든 모듈을 cuda:1에 할당하는 커스텀 device_map 설정\n",
    "    device_map = {\"\": \"cuda:1\"}\n",
    "    \n",
    "    tokenizer = AutoTokenizer.from_pretrained(model_name)\n",
    "    model = AutoModelForCausalLM.from_pretrained(\n",
    "        model_name,\n",
    "        quantization_config=bnb_config,\n",
    "        device_map=device_map\n",
    "    )\n",
    "    return model, tokenizer\n",
    "\n",
    "# 모델 및 토크나이저 로드 (한 번만 로드하여 이후 튜닝에 재사용)\n",
    "model, tokenizer = load_model_and_tokenizer(\"google/gemma-7b-it\")\n"
   ]
  },
  {
   "cell_type": "markdown",
   "metadata": {},
   "source": [
    "## 2. 결과 도출"
   ]
  },
  {
   "cell_type": "code",
   "execution_count": 23,
   "metadata": {},
   "outputs": [
    {
     "name": "stderr",
     "output_type": "stream",
     "text": [
      "[I 2025-03-01 09:16:35,481] A new study created in memory with name: no-name-08e3ccd5-5c2d-4fe9-af1e-b35a09109606\n",
      "[I 2025-03-01 09:16:38,717] Trial 0 finished with value: 0.0 and parameters: {'temperature': 0.5316556852358185, 'top_p': 0.7339060581369322, 'repetition_penalty': 1.3244939469020023, 'no_repeat_ngram_size': 3}. Best is trial 0 with value: 0.0.\n",
      "[I 2025-03-01 09:16:43,801] Trial 1 finished with value: 0.0 and parameters: {'temperature': 0.940595581858298, 'top_p': 0.7365539411349434, 'repetition_penalty': 1.82119776571525, 'no_repeat_ngram_size': 2}. Best is trial 0 with value: 0.0.\n",
      "[I 2025-03-01 09:16:48,287] Trial 2 finished with value: 0.0 and parameters: {'temperature': 0.676637107781165, 'top_p': 0.9940458797392224, 'repetition_penalty': 1.7924918175725328, 'no_repeat_ngram_size': 2}. Best is trial 0 with value: 0.0.\n",
      "[I 2025-03-01 09:16:53,844] Trial 3 finished with value: 0.0 and parameters: {'temperature': 0.7630867004429474, 'top_p': 0.8066371126311944, 'repetition_penalty': 1.2227777420423829, 'no_repeat_ngram_size': 3}. Best is trial 0 with value: 0.0.\n",
      "[I 2025-03-01 09:16:59,485] Trial 4 finished with value: 0.0 and parameters: {'temperature': 0.8757782062677217, 'top_p': 0.7298445473693853, 'repetition_penalty': 1.3953595639336585, 'no_repeat_ngram_size': 3}. Best is trial 0 with value: 0.0.\n",
      "[I 2025-03-01 09:17:04,730] Trial 5 finished with value: 0.0 and parameters: {'temperature': 0.7783645032882803, 'top_p': 0.9441752158138051, 'repetition_penalty': 1.47680637025669, 'no_repeat_ngram_size': 2}. Best is trial 0 with value: 0.0.\n",
      "[I 2025-03-01 09:17:08,624] Trial 6 finished with value: 0.0 and parameters: {'temperature': 0.5727083760154895, 'top_p': 0.8214264284332787, 'repetition_penalty': 1.4356408762602342, 'no_repeat_ngram_size': 3}. Best is trial 0 with value: 0.0.\n",
      "[I 2025-03-01 09:17:13,342] Trial 7 finished with value: 0.0 and parameters: {'temperature': 0.6783003920330404, 'top_p': 0.8843386537525306, 'repetition_penalty': 1.8418025570601793, 'no_repeat_ngram_size': 3}. Best is trial 0 with value: 0.0.\n",
      "[I 2025-03-01 09:17:17,954] Trial 8 finished with value: 0.0 and parameters: {'temperature': 0.8379367576244863, 'top_p': 0.8463823229848715, 'repetition_penalty': 1.302918433757271, 'no_repeat_ngram_size': 3}. Best is trial 0 with value: 0.0.\n",
      "[I 2025-03-01 09:17:23,256] Trial 9 finished with value: 0.0 and parameters: {'temperature': 0.7841044526572092, 'top_p': 0.7697547913432081, 'repetition_penalty': 1.861856035087778, 'no_repeat_ngram_size': 3}. Best is trial 0 with value: 0.0.\n",
      "[I 2025-03-01 09:17:29,557] Trial 10 finished with value: 0.0 and parameters: {'temperature': 0.5030858689934726, 'top_p': 0.7000176898872204, 'repetition_penalty': 1.0076711412815227, 'no_repeat_ngram_size': 4}. Best is trial 0 with value: 0.0.\n",
      "[I 2025-03-01 09:17:35,858] Trial 11 finished with value: 0.0 and parameters: {'temperature': 0.9686274051540776, 'top_p': 0.7584328378977834, 'repetition_penalty': 1.6392100667731868, 'no_repeat_ngram_size': 4}. Best is trial 0 with value: 0.0.\n",
      "[I 2025-03-01 09:17:38,492] Trial 12 finished with value: 0.0 and parameters: {'temperature': 0.992374032913462, 'top_p': 0.7006302027588169, 'repetition_penalty': 1.6505629087312594, 'no_repeat_ngram_size': 2}. Best is trial 0 with value: 0.0.\n",
      "[I 2025-03-01 09:17:43,361] Trial 13 finished with value: 0.0 and parameters: {'temperature': 0.9040580248924841, 'top_p': 0.7762603686079795, 'repetition_penalty': 1.1665523570270002, 'no_repeat_ngram_size': 2}. Best is trial 0 with value: 0.0.\n",
      "[I 2025-03-01 09:17:47,693] Trial 14 finished with value: 0.0 and parameters: {'temperature': 0.651207020907631, 'top_p': 0.8741567924702254, 'repetition_penalty': 1.9962773166593806, 'no_repeat_ngram_size': 4}. Best is trial 0 with value: 0.0.\n",
      "[I 2025-03-01 09:17:52,973] Trial 15 finished with value: 0.0 and parameters: {'temperature': 0.591090045990687, 'top_p': 0.7394022986347405, 'repetition_penalty': 1.6254288915703485, 'no_repeat_ngram_size': 2}. Best is trial 0 with value: 0.0.\n",
      "[I 2025-03-01 09:17:55,776] Trial 16 finished with value: 0.0 and parameters: {'temperature': 0.5572448188826187, 'top_p': 0.8002279406878563, 'repetition_penalty': 1.0659868129663348, 'no_repeat_ngram_size': 2}. Best is trial 0 with value: 0.0.\n",
      "[I 2025-03-01 09:17:59,980] Trial 17 finished with value: 0.0 and parameters: {'temperature': 0.9242448974539038, 'top_p': 0.9140767433737338, 'repetition_penalty': 1.5639828846247568, 'no_repeat_ngram_size': 4}. Best is trial 0 with value: 0.0.\n",
      "[I 2025-03-01 09:18:06,311] Trial 18 finished with value: 0.0 and parameters: {'temperature': 0.8378967445027276, 'top_p': 0.729209949232247, 'repetition_penalty': 1.324656866038424, 'no_repeat_ngram_size': 2}. Best is trial 0 with value: 0.0.\n",
      "[I 2025-03-01 09:18:08,952] Trial 19 finished with value: 0.0 and parameters: {'temperature': 0.7190413091191363, 'top_p': 0.8343116223038735, 'repetition_penalty': 1.1755748379099595, 'no_repeat_ngram_size': 3}. Best is trial 0 with value: 0.0.\n"
     ]
    },
    {
     "name": "stdout",
     "output_type": "stream",
     "text": [
      "Best trial:\n",
      "{'temperature': 0.5316556852358185, 'top_p': 0.7339060581369322, 'repetition_penalty': 1.3244939469020023, 'no_repeat_ngram_size': 3}\n"
     ]
    }
   ],
   "source": [
    "import optuna\n",
    "from rouge_score import rouge_scorer\n",
    "\n",
    "def objective(trial):\n",
    "    # 튜닝할 생성 파라미터 후보를 제안합니다.\n",
    "    temperature = trial.suggest_float(\"temperature\", 0.5, 1.0)\n",
    "    top_p = trial.suggest_float(\"top_p\", 0.7, 1.0)\n",
    "    repetition_penalty = trial.suggest_float(\"repetition_penalty\", 1.0, 2.0)\n",
    "    no_repeat_ngram_size = trial.suggest_int(\"no_repeat_ngram_size\", 2, 4)\n",
    "    \n",
    "    # 고정 입력 예시 및 참조 요약 (실제 튜닝 시 여러 샘플로 확장 가능)\n",
    "    input_text = (\n",
    "        '원고가 소속회사의 노동조합에서 분규가 발생하자 노조활동을 구실로 정상적인 근무를 해태하고, 노조조합장이 사임한 경우, 노동조합규약에 동 조합장의 직무를 대행할 자를 규정해 두고 있음에도 원고 자신이 주동하여 노조자치수습대책위원회를 구성하여 그 위원장으로 피선되어 근무시간중에도 노조활동을 벌여 운수업체인 소속회사의 업무에 지장을 초래하고 종업원들에게도 나쁜 영향을 끼쳐 소속회사가 취업규칙을 위반하고 고의로 회사업무능률을 저해하였으며 회사업무상의 지휘명령에 위반하였음을 이유로 원고를 징계해고 하였다면, 이는 원고의 노동조합 활동과는 관계없이 회사취업규칙에 의하여 사내질서를 유지하기 위한 사용자 고유의 징계권에 기하여 이루어진 정당한 징계권의 행사로 보아야 한다.'\n",
    "    )\n",
    "    reference = (\n",
    "        '원고가 주동하여 회사업무능률을 저해하고 회사업무상의 지휘명령에 위반하였다면 이에 따른 징계해고는 사내질서를 유지하기 위한 사용자 고유의 정당한 징계권의 행사로 보아야 한다.'\n",
    "    )\n",
    "    \n",
    "    # 개선된 프롬프트 구성\n",
    "    prompt = (\n",
    "        f\"### 원문:\\n{input_text}\\n\\n\"\n",
    "        \"### 요약 지시사항:\\n\"\n",
    "        \"위 원문의 핵심 내용을 정제되고 자연스러운 문어체로 3-4 문장으로 요약해 주세요. \"\n",
    "        \"불필요한 생략 기호나 구어체 표현은 사용하지 말고, 명확하고 간결하게 작성해 주세요.\\n\"\n",
    "        \"### 요약:\"\n",
    "    )\n",
    "    \n",
    "    # gpu \"cuda:1\" 사용 (입력 토큰은 명시적으로 이동)\n",
    "    device = torch.device(\"cuda:1\" if torch.cuda.is_available() else \"cpu\")\n",
    "    inputs = tokenizer(prompt, return_tensors=\"pt\").to(device)\n",
    "    \n",
    "    # 모델 generate 호출 (튜닝 파라미터 반영)\n",
    "    with torch.no_grad():\n",
    "        outputs = model.generate(\n",
    "            input_ids=inputs[\"input_ids\"],\n",
    "            attention_mask=inputs[\"attention_mask\"],\n",
    "            max_new_tokens=150,\n",
    "            do_sample=True,\n",
    "            temperature=temperature,\n",
    "            top_p=top_p,\n",
    "            repetition_penalty=repetition_penalty,\n",
    "            no_repeat_ngram_size=no_repeat_ngram_size,\n",
    "            pad_token_id=tokenizer.pad_token_id or tokenizer.eos_token_id\n",
    "        )\n",
    "    \n",
    "    generated_summary = tokenizer.decode(outputs[0], skip_special_tokens=True)\n",
    "    \n",
    "    # ROUGE-L를 기준으로 평가 (값이 높을수록 좋으므로, 최적화를 위해 -값을 반환)\n",
    "    scorer = rouge_scorer.RougeScorer(['rougeL'], use_stemmer=True)\n",
    "    scores = scorer.score(reference, generated_summary)\n",
    "    rouge_l = scores['rougeL'].fmeasure\n",
    "    # 목표: ROUGE-L을 최대화하므로, 최적화 objective는 -rouge_l (minimize 방향)\n",
    "    return -rouge_l\n",
    "\n",
    "# Optuna 스터디 생성 및 최적화 실행\n",
    "study = optuna.create_study(direction=\"minimize\")\n",
    "study.optimize(objective, n_trials=20)\n",
    "\n",
    "print(\"Best trial:\")\n",
    "print(study.best_trial.params)\n"
   ]
  },
  {
   "cell_type": "markdown",
   "metadata": {},
   "source": [
    "## 3. 메인 함수: 전체 파이프라인 실행"
   ]
  },
  {
   "cell_type": "code",
   "execution_count": null,
   "metadata": {},
   "outputs": [
    {
     "name": "stdout",
     "output_type": "stream",
     "text": [
      "Test Input:\n",
      "원고가 소속회사의 노동조합에서 분규가 발생하자 노조활동을 구실로 정상적인 근무를 해태하고, 노조조합장이 사임한 경우, 노동조합규약에 동 조합장의 직무를 대행할 자를 규정해 두고 있음에도 원고 자신이 주동하여 노조자치수습대책위원회를 구성하여 그 위원장으로 피선되어 근무시간중에도 노조활동을 벌여 운수업체인 소속회사의 업무에 지장을 초래하고 종업원들에게도 나쁜 영향을 끼쳐 소속회사가 취업규칙을 위반하고 고의로 회사업무능률을 저해하였으며 회사업무상의 지휘명령에 위반하였음을 이유로 원고를 징계해고 하였다면, 이는 원고의 노동조합 활동과는 관계없이 회사취업규칙에 의하여 사내질서를 유지하기 위한 사용자 고유의 징계권에 기하여 이루어진 정당한 징계권의 행사로 보아야 한다.\n",
      "\n",
      "Final Generated Summary:\n",
      "### 원문:\n",
      "원고가 소속회사의 노동조합에서 분규가 발생하자 노조활동을 구실로 정상적인 근무를 해태하고, 노조조합장이 사임한 경우, 노동조합규약에 동 조합장의 직무를 대행할 자를 규정해 두고 있음에도 원고 자신이 주동하여 노조자치수습대책위원회를 구성하여 그 위원장으로 피선되어 근무시간중에도 노조활동을 벌여 운수업체인 소속회사의 업무에 지장을 초래하고 종업원들에게도 나쁜 영향을 끼쳐 소속회사가 취업규칙을 위반하고 고의로 회사업무능률을 저해하였으며 회사업무상의 지휘명령에 위반하였음을 이유로 원고를 징계해고 하였다면, 이는 원고의 노동조합 활동과는 관계없이 회사취업규칙에 의하여 사내질서를 유지하기 위한 사용자 고유의 징계권에 기하여 이루어진 정당한 징계권의 행사로 보아야 한다.\n",
      "\n",
      "### 요약 지시사항:\n",
      "위 원문의 핵심 내용을 정제되고 자연스러운 문어체로 3-4 문장으로 요약해 주세요. 불필요한 생략 기호나 구어체 표현은 사용하지 말고, 명확하고 간결하게 작성해 주세요.\n",
      "### 요약:\n",
      "\n",
      "\n",
      "소 속단에서는 제작된 논거와 관련 없게 현직근용법 및 채čov료 등 법적 문제만 다양성 확보라는 목표 dưới 공모금 비율 상승 방침에는 반대로 부담감이나 경험식 변화라 볼 수 있습니다..\n"
     ]
    }
   ],
   "source": [
    "def generate_summary_with_params(model, tokenizer, input_text, params, max_new_tokens=150):\n",
    "    \"\"\"\n",
    "    튜닝된 파라미터를 사용하여 입력 텍스트에 대해 요약을 생성합니다.\n",
    "    \"\"\"\n",
    "    device = torch.device(\"cuda:1\" if torch.cuda.is_available() else \"cpu\")\n",
    "    prompt = (\n",
    "        f\"### 원문:\\n{input_text}\\n\\n\"\n",
    "        \"### 요약 지시사항:\\n\"\n",
    "        \"위 원문의 핵심 내용을 정제되고 자연스러운 문어체로 3-4 문장으로 요약해 주세요. \"\n",
    "        \"불필요한 생략 기호나 구어체 표현은 사용하지 말고, 명확하고 간결하게 작성해 주세요.\\n\"\n",
    "        \"### 요약:\"\n",
    "    )\n",
    "    inputs = tokenizer(prompt, return_tensors=\"pt\").to(device)\n",
    "    \n",
    "    with torch.no_grad():\n",
    "        outputs = model.generate(\n",
    "            input_ids=inputs[\"input_ids\"],\n",
    "            attention_mask=inputs[\"attention_mask\"],\n",
    "            max_new_tokens=max_new_tokens,\n",
    "            do_sample=True,\n",
    "            temperature=params[\"temperature\"],\n",
    "            top_p=params[\"top_p\"],\n",
    "            repetition_penalty=params[\"repetition_penalty\"],\n",
    "            no_repeat_ngram_size=params[\"no_repeat_ngram_size\"],\n",
    "            pad_token_id=tokenizer.pad_token_id or tokenizer.eos_token_id\n",
    "        )\n",
    "    \n",
    "    summary = tokenizer.decode(outputs[0], skip_special_tokens=True)\n",
    "    return summary\n",
    "\n",
    "# 최적 파라미터를 얻은 후, 새로운 입력에 대해 요약 생성\n",
    "best_params = study.best_trial.params\n",
    "test_input = (\n",
    "    '원고가 소속회사의 노동조합에서 분규가 발생하자 노조활동을 구실로 정상적인 근무를 해태하고, 노조조합장이 사임한 경우, 노동조합규약에 동 조합장의 직무를 대행할 자를 규정해 두고 있음에도 원고 자신이 주동하여 노조자치수습대책위원회를 구성하여 그 위원장으로 피선되어 근무시간중에도 노조활동을 벌여 운수업체인 소속회사의 업무에 지장을 초래하고 종업원들에게도 나쁜 영향을 끼쳐 소속회사가 취업규칙을 위반하고 고의로 회사업무능률을 저해하였으며 회사업무상의 지휘명령에 위반하였음을 이유로 원고를 징계해고 하였다면, 이는 원고의 노동조합 활동과는 관계없이 회사취업규칙에 의하여 사내질서를 유지하기 위한 사용자 고유의 징계권에 기하여 이루어진 정당한 징계권의 행사로 보아야 한다.'\n",
    ")\n",
    "final_summary = generate_summary_with_params(model, tokenizer, test_input, best_params)\n",
    "print(\"Test Input:\")\n",
    "print(test_input)\n",
    "print(\"\\nFinal Generated Summary:\")\n",
    "print(final_summary)"
   ]
  },
  {
   "cell_type": "markdown",
   "metadata": {},
   "source": [
    "## 4. 성능 평가"
   ]
  },
  {
   "cell_type": "markdown",
   "metadata": {},
   "source": [
    "### 1. 평가 데이터셋 로드"
   ]
  },
  {
   "cell_type": "code",
   "execution_count": 33,
   "metadata": {},
   "outputs": [],
   "source": [
    "import pandas as pd\n",
    "from datasets import Dataset\n",
    "\n",
    "def load_evaluation_dataset(csv_path, encoding=\"utf-8\"):\n",
    "    \"\"\"\n",
    "    평가용 CSV 파일을 불러와 데이터셋으로 변환합니다.\n",
    "    CSV 파일에는 'original_text'와 'summary_text' 컬럼이 있다고 가정하며,\n",
    "    이를 'input_text'와 'target_text'로 재정의합니다.\n",
    "    \"\"\"\n",
    "    df = pd.read_csv(csv_path, encoding=encoding)\n",
    "    df = df.rename(columns={\"original_text\": \"input_text\", \"summary_text\": \"target_text\"})\n",
    "    dataset = Dataset.from_pandas(df)\n",
    "    return dataset\n",
    "\n",
    "# 사용 예시:\n",
    "# eval_dataset = load_evaluation_dataset(\"evaluation_data.csv\", encoding=\"utf-8\")\n"
   ]
  },
  {
   "cell_type": "markdown",
   "metadata": {},
   "source": [
    "### 2. 모델 및 토크나이저 로드"
   ]
  },
  {
   "cell_type": "code",
   "execution_count": 34,
   "metadata": {},
   "outputs": [
    {
     "data": {
      "application/vnd.jupyter.widget-view+json": {
       "model_id": "8c5dd407476b4fe5b1499ef7876b05c1",
       "version_major": 2,
       "version_minor": 0
      },
      "text/plain": [
       "Loading checkpoint shards:   0%|          | 0/4 [00:00<?, ?it/s]"
      ]
     },
     "metadata": {},
     "output_type": "display_data"
    }
   ],
   "source": [
    "from transformers import AutoTokenizer, AutoModelForCausalLM, BitsAndBytesConfig\n",
    "\n",
    "def load_model_and_tokenizer(model_name=\"google/gemma-7b-it\"):\n",
    "    \"\"\"\n",
    "    BitsAndBytesConfig를 사용하여 8-bit quantization 상태로 Gemma-7b-it 모델을 로드합니다.\n",
    "    device_map을 {\"\": \"cuda:1\"}로 설정하여 모든 모듈이 오직 cuda:1에 할당되도록 합니다.\n",
    "    \"\"\"\n",
    "    bnb_config = BitsAndBytesConfig(\n",
    "        load_in_8bit=True,\n",
    "        llm_int8_threshold=6.0,\n",
    "        llm_int8_has_fp16_weight=False,\n",
    "        llm_int8_enable_fp32_cpu_offload=True\n",
    "    )\n",
    "    \n",
    "    device_map = {\"\": \"cuda:1\"}\n",
    "    \n",
    "    tokenizer = AutoTokenizer.from_pretrained(model_name)\n",
    "    model = AutoModelForCausalLM.from_pretrained(\n",
    "        model_name,\n",
    "        quantization_config=bnb_config,\n",
    "        device_map=device_map\n",
    "    )\n",
    "    return model, tokenizer\n",
    "\n",
    "# 사용 예시:\n",
    "model, tokenizer = load_model_and_tokenizer(\"google/gemma-7b-it\")\n"
   ]
  },
  {
   "cell_type": "markdown",
   "metadata": {},
   "source": [
    "### 3. 평가용 요약 생성 함수"
   ]
  },
  {
   "cell_type": "code",
   "execution_count": 35,
   "metadata": {},
   "outputs": [],
   "source": [
    "import torch\n",
    "\n",
    "def generate_summary(model, tokenizer, input_text, max_new_tokens=150):\n",
    "    \"\"\"\n",
    "    개선된 프롬프트를 사용하여 입력 텍스트에 대해 Gemma-7b-it 모델이 요약을 생성합니다.\n",
    "    GPU는 오직 \"cuda:1\"을 사용합니다.\n",
    "    \"\"\"\n",
    "    prompt = (\n",
    "        f\"### 원문:\\n{input_text}\\n\\n\"\n",
    "        \"### 요약 지시사항:\\n\"\n",
    "        \"위 원문의 핵심 내용을 정제되고 자연스러운 문어체로 3-4 문장으로 요약해 주세요. \"\n",
    "        \"불필요한 생략 기호나 구어체 표현은 사용하지 말고, 명확하고 간결하게 작성해 주세요.\\n\"\n",
    "        \"### 요약:\"\n",
    "    )\n",
    "    device = torch.device(\"cuda:1\" if torch.cuda.is_available() else \"cpu\")\n",
    "    inputs = tokenizer(prompt, return_tensors=\"pt\").to(device)\n",
    "    \n",
    "    with torch.no_grad():\n",
    "        outputs = model.generate(\n",
    "            input_ids=inputs[\"input_ids\"],\n",
    "            attention_mask=inputs[\"attention_mask\"],\n",
    "            max_new_tokens=max_new_tokens,\n",
    "            do_sample=True,\n",
    "            temperature=0.7,\n",
    "            top_p=0.8,\n",
    "            repetition_penalty=1.2,\n",
    "            no_repeat_ngram_size=3,\n",
    "            pad_token_id=tokenizer.pad_token_id or tokenizer.eos_token_id\n",
    "        )\n",
    "    \n",
    "    summary = tokenizer.decode(outputs[0], skip_special_tokens=True)\n",
    "    return summary\n",
    "\n",
    "# 사용 예시:\n",
    "# summary = generate_summary(model, tokenizer, \"원문 텍스트\")\n"
   ]
  },
  {
   "cell_type": "markdown",
   "metadata": {},
   "source": [
    "### 4. 평가지표 계산 함수"
   ]
  },
  {
   "cell_type": "code",
   "execution_count": 36,
   "metadata": {},
   "outputs": [
    {
     "name": "stderr",
     "output_type": "stream",
     "text": [
      "[nltk_data] Downloading package wordnet to /home/wanted-1/nltk_data...\n",
      "[nltk_data]   Package wordnet is already up-to-date!\n",
      "[nltk_data] Downloading package omw-1.4 to /home/wanted-1/nltk_data...\n",
      "[nltk_data]   Package omw-1.4 is already up-to-date!\n"
     ]
    }
   ],
   "source": [
    "import nltk\n",
    "from nltk.translate.bleu_score import corpus_bleu\n",
    "from nltk.translate.meteor_score import meteor_score\n",
    "from rouge_score import rouge_scorer\n",
    "from bert_score import score as bertscore\n",
    "\n",
    "nltk.download('wordnet')\n",
    "nltk.download('omw-1.4')\n",
    "\n",
    "def compute_rouge(preds, refs):\n",
    "    scorer = rouge_scorer.RougeScorer(['rouge1', 'rouge2', 'rougeL'], use_stemmer=True)\n",
    "    rouge1, rouge2, rougeL = 0, 0, 0\n",
    "    count = len(preds)\n",
    "    for pred, ref in zip(preds, refs):\n",
    "        scores = scorer.score(ref, pred)\n",
    "        rouge1 += scores['rouge1'].fmeasure\n",
    "        rouge2 += scores['rouge2'].fmeasure\n",
    "        rougeL += scores['rougeL'].fmeasure\n",
    "    return {\"rouge1\": rouge1 / count, \"rouge2\": rouge2 / count, \"rougeL\": rougeL / count}\n",
    "\n",
    "def compute_bleu(preds, refs):\n",
    "    refs_list = [[ref.split()] for ref in refs]\n",
    "    preds_list = [pred.split() for pred in preds]\n",
    "    bleu = corpus_bleu(refs_list, preds_list)\n",
    "    return bleu\n",
    "\n",
    "def compute_meteor(preds, refs):\n",
    "    total = 0\n",
    "    count = len(preds)\n",
    "    for pred, ref in zip(preds, refs):\n",
    "        total += meteor_score([ref], pred)\n",
    "    return total / count\n",
    "\n",
    "def compute_bertscore(preds, refs):\n",
    "    P, R, F1 = bertscore(preds, refs, lang=\"ko\", verbose=True)\n",
    "    return F1.mean().item()\n"
   ]
  },
  {
   "cell_type": "markdown",
   "metadata": {},
   "source": [
    "### 5. 전체 평가 파이프라인 실행"
   ]
  },
  {
   "cell_type": "code",
   "execution_count": 38,
   "metadata": {},
   "outputs": [],
   "source": [
    "def evaluate_model(csv_path=\"evaluation_data.csv\", max_new_tokens=150):\n",
    "    # 1. 평가 데이터셋 로드\n",
    "    eval_dataset = load_evaluation_dataset(csv_path, encoding=\"utf-8\")\n",
    "    \n",
    "    # 2. 모델 및 토크나이저 로드 (cuda:1 고정)\n",
    "    model, tokenizer = load_model_and_tokenizer(\"google/gemma-7b-it\")\n",
    "    \n",
    "    # 3. 평가 데이터셋의 각 예제에 대해 요약 생성\n",
    "    predictions = []\n",
    "    references = []\n",
    "    for example in eval_dataset:\n",
    "        input_text = example[\"input_text\"]\n",
    "        reference = example[\"target_text\"]\n",
    "        pred_summary = generate_summary(model, tokenizer, input_text, max_new_tokens)\n",
    "        predictions.append(pred_summary)\n",
    "        references.append(reference)\n",
    "        print(\"원문:\", input_text)\n",
    "        print(\"생성 요약:\", pred_summary)\n",
    "        print(\"참조 요약:\", reference)\n",
    "        print(\"----------\")\n",
    "    \n",
    "    # 4. 평가지표 계산\n",
    "    rouge_scores = compute_rouge(predictions, references)\n",
    "    bleu_score = compute_bleu(predictions, references)\n",
    "    meteor_avg = compute_meteor(predictions, references)\n",
    "    bert_f1 = compute_bertscore(predictions, references)\n",
    "    \n",
    "    print(\"ROUGE scores:\", rouge_scores)\n",
    "    print(\"BLEU score:\", bleu_score)\n",
    "    print(\"METEOR score:\", meteor_avg)\n",
    "    print(\"BERTScore F1:\", bert_f1)\n",
    "\n",
    "# 사용 예시:\n",
    "# evaluate_model(\"evaluation_data.csv\", max_new_tokens=150)\n"
   ]
  },
  {
   "cell_type": "code",
   "execution_count": null,
   "metadata": {},
   "outputs": [
    {
     "name": "stderr",
     "output_type": "stream",
     "text": [
      "/home/wanted-1/miniconda3/envs/dl_project/lib/python3.9/site-packages/IPython/core/pylabtools.py:152: UserWarning: Glyph 51216 (\\N{HANGUL SYLLABLE JEOM}) missing from font(s) DejaVu Sans.\n",
      "  fig.canvas.print_figure(bytes_io, **kw)\n",
      "/home/wanted-1/miniconda3/envs/dl_project/lib/python3.9/site-packages/IPython/core/pylabtools.py:152: UserWarning: Glyph 49688 (\\N{HANGUL SYLLABLE SU}) missing from font(s) DejaVu Sans.\n",
      "  fig.canvas.print_figure(bytes_io, **kw)\n",
      "/home/wanted-1/miniconda3/envs/dl_project/lib/python3.9/site-packages/IPython/core/pylabtools.py:152: UserWarning: Glyph 50836 (\\N{HANGUL SYLLABLE YO}) missing from font(s) DejaVu Sans.\n",
      "  fig.canvas.print_figure(bytes_io, **kw)\n",
      "/home/wanted-1/miniconda3/envs/dl_project/lib/python3.9/site-packages/IPython/core/pylabtools.py:152: UserWarning: Glyph 50557 (\\N{HANGUL SYLLABLE YAG}) missing from font(s) DejaVu Sans.\n",
      "  fig.canvas.print_figure(bytes_io, **kw)\n",
      "/home/wanted-1/miniconda3/envs/dl_project/lib/python3.9/site-packages/IPython/core/pylabtools.py:152: UserWarning: Glyph 47784 (\\N{HANGUL SYLLABLE MO}) missing from font(s) DejaVu Sans.\n",
      "  fig.canvas.print_figure(bytes_io, **kw)\n",
      "/home/wanted-1/miniconda3/envs/dl_project/lib/python3.9/site-packages/IPython/core/pylabtools.py:152: UserWarning: Glyph 45944 (\\N{HANGUL SYLLABLE DEL}) missing from font(s) DejaVu Sans.\n",
      "  fig.canvas.print_figure(bytes_io, **kw)\n",
      "/home/wanted-1/miniconda3/envs/dl_project/lib/python3.9/site-packages/IPython/core/pylabtools.py:152: UserWarning: Glyph 54217 (\\N{HANGUL SYLLABLE PYEONG}) missing from font(s) DejaVu Sans.\n",
      "  fig.canvas.print_figure(bytes_io, **kw)\n",
      "/home/wanted-1/miniconda3/envs/dl_project/lib/python3.9/site-packages/IPython/core/pylabtools.py:152: UserWarning: Glyph 44032 (\\N{HANGUL SYLLABLE GA}) missing from font(s) DejaVu Sans.\n",
      "  fig.canvas.print_figure(bytes_io, **kw)\n",
      "/home/wanted-1/miniconda3/envs/dl_project/lib/python3.9/site-packages/IPython/core/pylabtools.py:152: UserWarning: Glyph 51648 (\\N{HANGUL SYLLABLE JI}) missing from font(s) DejaVu Sans.\n",
      "  fig.canvas.print_figure(bytes_io, **kw)\n",
      "/home/wanted-1/miniconda3/envs/dl_project/lib/python3.9/site-packages/IPython/core/pylabtools.py:152: UserWarning: Glyph 54364 (\\N{HANGUL SYLLABLE PYO}) missing from font(s) DejaVu Sans.\n",
      "  fig.canvas.print_figure(bytes_io, **kw)\n"
     ]
    },
    {
     "data": {
      "image/png": "[encoded data removed]",
      "text/plain": [
       "<Figure size 1000x600 with 1 Axes>"
      ]
     },
     "metadata": {},
     "output_type": "display_data"
    }
   ],
   "source": [
    "import matplotlib.pyplot as plt\n",
    "\n",
    "# 예시: 각 평가지표의 결과 (실제 결과 값으로 대체)\n",
    "evaluation_metrics = {\n",
    "    \"ROUGE-1\": 0.45,\n",
    "    \"ROUGE-2\": 0.30,\n",
    "    \"ROUGE-L\": 0.42,\n",
    "    \"BLEU\": 0.25,\n",
    "    \"METEOR\": 0.33,\n",
    "    \"BERTScore F1\": 0.50\n",
    "}\n",
    "\n",
    "def plot_evaluation_metrics(metrics):\n",
    "    # 지표 이름과 점수를 분리\n",
    "    labels = list(metrics.keys())\n",
    "    scores = list(metrics.values())\n",
    "    \n",
    "    plt.figure(figsize=(10, 6))\n",
    "    bars = plt.bar(labels, scores, color=\"skyblue\")\n",
    "    plt.xlabel(\"평가지표\")\n",
    "    plt.ylabel(\"점수\")\n",
    "    plt.title(\"요약 모델 평가 지표\")\n",
    "    \n",
    "    # 각 막대 위에 점수 값을 표시\n",
    "    for bar in bars:\n",
    "        yval = bar.get_height()\n",
    "        plt.text(bar.get_x() + bar.get_width()/2.0, yval + 0.01, f\"{yval:.2f}\", ha='center', va='bottom')\n",
    "    \n",
    "    plt.ylim(0, 1)  # 점수 범위가 0~1이면\n",
    "    plt.show()\n",
    "\n",
    "plot_evaluation_metrics(evaluation_metrics)"
   ]
  }
 ],
 "metadata": {
  "kernelspec": {
   "display_name": "dl_project",
   "language": "python",
   "name": "python3"
  },
  "language_info": {
   "codemirror_mode": {
    "name": "ipython",
    "version": 3
   },
   "file_extension": ".py",
   "mimetype": "text/x-python",
   "name": "python",
   "nbconvert_exporter": "python",
   "pygments_lexer": "ipython3",
   "version": "3.9.21"
  }
 },
 "nbformat": 4,
 "nbformat_minor": 2
}
