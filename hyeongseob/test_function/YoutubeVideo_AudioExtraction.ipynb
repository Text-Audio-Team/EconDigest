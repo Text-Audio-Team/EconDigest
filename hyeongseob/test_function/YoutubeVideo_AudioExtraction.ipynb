{
 "cells": [
  {
   "cell_type": "markdown",
   "metadata": {},
   "source": [
    "# Youtube Video Audio 추출 코드\n",
    "- pip install yt_dlp"
   ]
  },
  {
   "cell_type": "code",
   "execution_count": null,
   "metadata": {},
   "outputs": [],
   "source": [
    "# 필요 라이브러리 불러오기\n",
    "import os\n",
    "import re\n",
    "import yt_dlp\n",
    "\n",
    "## 1. 파일명 정리 함수 \n",
    "def clean_filename(title):\n",
    "    \"\"\"\n",
    "    파일명으로 사용할 수 있도록 영상 제목에서 특수문자를 제거하는 함수.\n",
    "    \"\"\"\n",
    "    return re.sub(r'[\\\\/*?:\"<>|]', \"\", title)\n",
    "\n",
    "\n",
    "## 2. 영상 오디오 추출 함수\n",
    "def download_audio(video_url, video_title, output_folder=None):\n",
    "    \"\"\"\n",
    "    유튜브 영상에서 오디오(mp3)만 추출하여 저장하는 함수.\n",
    "    \"\"\"\n",
    "\n",
    "    # 저장 경로 설정 (기본적으로 주어진 output_folder를 사용)\n",
    "    if output_folder is None:\n",
    "        output_folder = \"./output_folder\"  # 기본 저장 경로 설정\n",
    "\n",
    "    # 추출 오디오 저장 경로 설정\n",
    "    output_path = os.path.join(output_folder, f\"{video_title}\")\n",
    "\n",
    "    # 저장 폴더가 존재하지 않으면 생성\n",
    "    os.makedirs(output_folder, exist_ok=True)  \n",
    "\n",
    "    # yt-dlp 다운로드 옵션 설정\n",
    "    ydl_opts = {\n",
    "        'format': 'bestaudio',                  # 최상의 오디오 품질로 다운로드 (영상과 오디오 둘다 고려할땐 'best'만 사용)\n",
    "        'outtmpl': output_path,                 # 저장할 파일명 지정\n",
    "        'postprocessors': [{                    # 다운로드한 파일을 오디오(mp3)로 변환\n",
    "            'key': 'FFmpegExtractAudio',        # FFmpeg를 사용하여 오디오 추출\n",
    "            'preferredcodec': 'mp3',            # 오디오 코덱을 MP3로 변환\n",
    "            'preferredquality': '192',          # MP3 비트레이트를 192kbps로 설정\n",
    "        }],\n",
    "        'quiet': True                           # yt-dlp 실행 로그 최소화\n",
    "    }\n",
    "\n",
    "    # yt-dlp를 사용하여 오디오 다운로드 실행\n",
    "    with yt_dlp.YoutubeDL(ydl_opts) as ydl:\n",
    "        ydl.download([video_url])  \n",
    "\n",
    "    print(f\"오디오 저장 완료: {output_path}\")\n",
    "\n",
    "# 실행 (영상 URL 입력)\n",
    "video_urls = input()\n",
    "video_title = \"영상 오디오 추출 자료_01\"\n",
    "video_title = clean_filename(video_title)                      \n",
    "\n",
    "download_audio(video_urls, video_title)"
   ]
  }
 ],
 "metadata": {
  "kernelspec": {
   "display_name": "yoyak",
   "language": "python",
   "name": "python3"
  },
  "language_info": {
   "codemirror_mode": {
    "name": "ipython",
    "version": 3
   },
   "file_extension": ".py",
   "mimetype": "text/x-python",
   "name": "python",
   "nbconvert_exporter": "python",
   "pygments_lexer": "ipython3",
   "version": "3.11.11"
  }
 },
 "nbformat": 4,
 "nbformat_minor": 2
}
